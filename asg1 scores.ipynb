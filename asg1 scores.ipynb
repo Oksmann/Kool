{
 "cells": [
  {
   "cell_type": "code",
   "execution_count": 1,
   "id": "542493ce-795c-43d1-b09b-97ae5c787224",
   "metadata": {},
   "outputs": [],
   "source": [
    "#Student Marks Manager – enter marks for multiple subjects, calculate \n",
    "#average, and display grade."
   ]
  },
  {
   "cell_type": "code",
   "execution_count": 15,
   "id": "aaa5d400-2a45-4e0b-b042-f79a11bd5a9f",
   "metadata": {},
   "outputs": [
    {
     "name": "stdin",
     "output_type": "stream",
     "text": [
      "Enter subject 1 marks:  102\n",
      "Enter subject 2 marks:  200\n",
      "Enter subject 3 marks:  200\n"
     ]
    },
    {
     "name": "stdout",
     "output_type": "stream",
     "text": [
      "Error: Marks must be between 0 and 100.\n"
     ]
    }
   ],
   "source": [
    "score1_raw = input(\"Enter subject 1 marks: \")\n",
    "score2_raw = input(\"Enter subject 2 marks: \")\n",
    "score3_raw = input(\"Enter subject 3 marks: \")\n",
    "\n",
    "if score1_raw.isdigit() and score2_raw.isdigit() and score3_raw.isdigit():\n",
    "    \n",
    "    score1 = int(score1_raw)\n",
    "    score2 = int(score2_raw)\n",
    "    score3 = int(score3_raw)\n",
    "\n",
    "    if (score1 >= 0 and score1 <= 100) and \\\n",
    "        (score2 >= 0 and score2 <= 100) and \\\n",
    "        (score3 >= 0 and score3 <= 100):\n",
    "\n",
    "        score_list = []\n",
    "        score_list.append(score1)\n",
    "        score_list.append(score2)\n",
    "        score_list.append(score3)\n",
    "\n",
    "        score_avg = int(sum(score_list) / len(score_list))\n",
    "        score_grade = score_avg\n",
    "\n",
    "        if score_grade >= 85:\n",
    "            grade = \"HD\"\n",
    "        elif score_grade >= 75:\n",
    "            grade = \"D\"\n",
    "        elif score_grade >= 65:\n",
    "            grade = \"C\"\n",
    "        elif score_grade >= 50:\n",
    "            grade = \"P\"\n",
    "        else:\n",
    "            grade = \"F\"\n",
    "\n",
    "        print(f\"Grade: {grade}\")\n",
    "        print(f\"Student average score is: {score_avg}\")\n",
    "    else:\n",
    "        print(\"Error: Marks must be between 0 and 100.\")\n",
    "else:\n",
    "    print(\"Invalid input. Please enter (full) numbers only.\")\n"
   ]
  },
  {
   "cell_type": "code",
   "execution_count": null,
   "id": "ac01e53a-96f7-4286-8857-3f1453a5f6bb",
   "metadata": {},
   "outputs": [],
   "source": []
  }
 ],
 "metadata": {
  "kernelspec": {
   "display_name": "Python [conda env:base] *",
   "language": "python",
   "name": "conda-base-py"
  },
  "language_info": {
   "codemirror_mode": {
    "name": "ipython",
    "version": 3
   },
   "file_extension": ".py",
   "mimetype": "text/x-python",
   "name": "python",
   "nbconvert_exporter": "python",
   "pygments_lexer": "ipython3",
   "version": "3.13.5"
  }
 },
 "nbformat": 4,
 "nbformat_minor": 5
}
